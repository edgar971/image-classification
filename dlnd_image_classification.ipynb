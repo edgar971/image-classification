{
 "cells": [
  {
   "cell_type": "markdown",
   "metadata": {
    "collapsed": true
   },
   "source": [
    "# Image Classification\n",
    "In this project, you'll classify images from the [CIFAR-10 dataset](https://www.cs.toronto.edu/~kriz/cifar.html).  The dataset consists of airplanes, dogs, cats, and other objects. You'll preprocess the images, then train a convolutional neural network on all the samples. The images need to be normalized and the labels need to be one-hot encoded.  You'll get to apply what you learned and build a convolutional, max pooling, dropout, and fully connected layers.  At the end, you'll get to see your neural network's predictions on the sample images.\n",
    "## Get the Data\n",
    "Run the following cell to download the [CIFAR-10 dataset for python](https://www.cs.toronto.edu/~kriz/cifar-10-python.tar.gz)."
   ]
  },
  {
   "cell_type": "code",
   "execution_count": 1,
   "metadata": {
    "collapsed": false
   },
   "outputs": [
    {
     "name": "stdout",
     "output_type": "stream",
     "text": [
      "All files found!\n"
     ]
    }
   ],
   "source": [
    "\"\"\"\n",
    "DON'T MODIFY ANYTHING IN THIS CELL THAT IS BELOW THIS LINE\n",
    "\"\"\"\n",
    "from urllib.request import urlretrieve\n",
    "from os.path import isfile, isdir\n",
    "from tqdm import tqdm\n",
    "import problem_unittests as tests\n",
    "import tarfile\n",
    "\n",
    "\n",
    "cifar10_dataset_folder_path = 'cifar-10-batches-py'\n",
    "\n",
    "# Use Floyd's cifar-10 dataset if present\n",
    "floyd_cifar10_location = '/input/cifar-10/python.tar.gz'\n",
    "if isfile(floyd_cifar10_location):\n",
    "    tar_gz_path = floyd_cifar10_location\n",
    "else:\n",
    "    tar_gz_path = 'cifar-10-python.tar.gz'\n",
    "\n",
    "class DLProgress(tqdm):\n",
    "    last_block = 0\n",
    "\n",
    "    def hook(self, block_num=1, block_size=1, total_size=None):\n",
    "        self.total = total_size\n",
    "        self.update((block_num - self.last_block) * block_size)\n",
    "        self.last_block = block_num\n",
    "\n",
    "if not isfile(tar_gz_path):\n",
    "    with DLProgress(unit='B', unit_scale=True, miniters=1, desc='CIFAR-10 Dataset') as pbar:\n",
    "        urlretrieve(\n",
    "            'https://www.cs.toronto.edu/~kriz/cifar-10-python.tar.gz',\n",
    "            tar_gz_path,\n",
    "            pbar.hook)\n",
    "\n",
    "if not isdir(cifar10_dataset_folder_path):\n",
    "    with tarfile.open(tar_gz_path) as tar:\n",
    "        tar.extractall()\n",
    "        tar.close()\n",
    "\n",
    "\n",
    "tests.test_folder_path(cifar10_dataset_folder_path)"
   ]
  },
  {
   "cell_type": "markdown",
   "metadata": {},
   "source": [
    "## Explore the Data\n",
    "The dataset is broken into batches to prevent your machine from running out of memory.  The CIFAR-10 dataset consists of 5 batches, named `data_batch_1`, `data_batch_2`, etc.. Each batch contains the labels and images that are one of the following:\n",
    "* airplane\n",
    "* automobile\n",
    "* bird\n",
    "* cat\n",
    "* deer\n",
    "* dog\n",
    "* frog\n",
    "* horse\n",
    "* ship\n",
    "* truck\n",
    "\n",
    "Understanding a dataset is part of making predictions on the data.  Play around with the code cell below by changing the `batch_id` and `sample_id`. The `batch_id` is the id for a batch (1-5). The `sample_id` is the id for a image and label pair in the batch.\n",
    "\n",
    "Ask yourself \"What are all possible labels?\", \"What is the range of values for the image data?\", \"Are the labels in order or random?\".  Answers to questions like these will help you preprocess the data and end up with better predictions."
   ]
  },
  {
   "cell_type": "code",
   "execution_count": 2,
   "metadata": {
    "collapsed": false
   },
   "outputs": [
    {
     "name": "stdout",
     "output_type": "stream",
     "text": [
      "\n",
      "Stats of batch 1:\n",
      "Samples: 10000\n",
      "Label Counts: {0: 1005, 1: 974, 2: 1032, 3: 1016, 4: 999, 5: 937, 6: 1030, 7: 1001, 8: 1025, 9: 981}\n",
      "First 20 Labels: [6, 9, 9, 4, 1, 1, 2, 7, 8, 3, 4, 7, 7, 2, 9, 9, 9, 3, 2, 6]\n",
      "\n",
      "Example of Image 5:\n",
      "Image - Min Value: 0 Max Value: 252\n",
      "Image - Shape: (32, 32, 3)\n",
      "Label - Label Id: 1 Name: automobile\n"
     ]
    },
    {
     "data": {
      "image/png": "[encoded data removed]",
      "text/plain": [
       "<matplotlib.figure.Figure at 0x11e19fcc0>"
      ]
     },
     "metadata": {
      "image/png": {
       "height": 250,
       "width": 253
      }
     },
     "output_type": "display_data"
    }
   ],
   "source": [
    "%matplotlib inline\n",
    "%config InlineBackend.figure_format = 'retina'\n",
    "\n",
    "import helper\n",
    "import numpy as np\n",
    "\n",
    "# Explore the dataset\n",
    "batch_id = 1\n",
    "sample_id = 5\n",
    "helper.display_stats(cifar10_dataset_folder_path, batch_id, sample_id)"
   ]
  },
  {
   "cell_type": "markdown",
   "metadata": {},
   "source": [
    "## Implement Preprocess Functions\n",
    "### Normalize\n",
    "In the cell below, implement the `normalize` function to take in image data, `x`, and return it as a normalized Numpy array. The values should be in the range of 0 to 1, inclusive.  The return object should be the same shape as `x`."
   ]
  },
  {
   "cell_type": "code",
   "execution_count": 3,
   "metadata": {
    "collapsed": false
   },
   "outputs": [],
   "source": [
    "# Debug stuff, ignore\n",
    "# help(tf.truncated_normal)"
   ]
  },
  {
   "cell_type": "code",
   "execution_count": 4,
   "metadata": {
    "collapsed": false
   },
   "outputs": [
    {
     "name": "stdout",
     "output_type": "stream",
     "text": [
      "Tests Passed\n"
     ]
    }
   ],
   "source": [
    "# Notes: https://github.com/udacity/deep-learning/blob/master/intro-to-tensorflow/intro_to_tensorflow.ipynb\n",
    "def normalize(x):\n",
    "    \"\"\"\n",
    "    Normalize a list of sample image data in the range of 0 to 1\n",
    "    : x: List of image data.  The image shape is (32, 32, 3)\n",
    "    : return: Numpy array of normalize data\n",
    "    \"\"\"\n",
    "    \n",
    "    normalized = np.array((x - np.min(x)) / (np.max(x) - np.min(x)))\n",
    "    \n",
    "    return normalized\n",
    "\n",
    "\n",
    "\n",
    "\"\"\"\n",
    "DON'T MODIFY ANYTHING IN THIS CELL THAT IS BELOW THIS LINE\n",
    "\"\"\"\n",
    "tests.test_normalize(normalize)"
   ]
  },
  {
   "cell_type": "markdown",
   "metadata": {},
   "source": [
    "### One-hot encode\n",
    "Just like the previous code cell, you'll be implementing a function for preprocessing.  This time, you'll implement the `one_hot_encode` function. The input, `x`, are a list of labels.  Implement the function to return the list of labels as One-Hot encoded Numpy array.  The possible values for labels are 0 to 9. The one-hot encoding function should return the same encoding for each value between each call to `one_hot_encode`.  Make sure to save the map of encodings outside the function.\n",
    "\n",
    "Hint: Don't reinvent the wheel."
   ]
  },
  {
   "cell_type": "code",
   "execution_count": 5,
   "metadata": {
    "collapsed": false
   },
   "outputs": [
    {
     "name": "stdout",
     "output_type": "stream",
     "text": [
      "Tests Passed\n"
     ]
    }
   ],
   "source": [
    "# http://scikit-learn.org/stable/modules/generated/sklearn.preprocessing.LabelBinarizer.html#sklearn.preprocessing.LabelBinarizer\n",
    "from sklearn import preprocessing\n",
    "lb = None\n",
    "def one_hot_encode(x):\n",
    "    \"\"\"\n",
    "    One hot encode a list of sample labels. Return a one-hot encoded vector for each label.\n",
    "    : x: List of sample Labels\n",
    "    : return: Numpy array of one-hot encoded labels\n",
    "    \"\"\"\n",
    "    # TODO: Implement Function\n",
    "    global lb\n",
    "    if lb is None:\n",
    "        lb = preprocessing.LabelBinarizer()\n",
    "        lb.fit(range(max(x)+1))\n",
    "        \n",
    "    encoding_labels = lb.transform(x)\n",
    "    return encoding_labels\n",
    "\n",
    "\n",
    "\n",
    "\"\"\"\n",
    "DON'T MODIFY ANYTHING IN THIS CELL THAT IS BELOW THIS LINE\n",
    "\"\"\"\n",
    "tests.test_one_hot_encode(one_hot_encode)"
   ]
  },
  {
   "cell_type": "markdown",
   "metadata": {},
   "source": [
    "### Randomize Data\n",
    "As you saw from exploring the data above, the order of the samples are randomized.  It doesn't hurt to randomize it again, but you don't need to for this dataset."
   ]
  },
  {
   "cell_type": "markdown",
   "metadata": {},
   "source": [
    "## Preprocess all the data and save it\n",
    "Running the code cell below will preprocess all the CIFAR-10 data and save it to file. The code below also uses 10% of the training data for validation."
   ]
  },
  {
   "cell_type": "code",
   "execution_count": 6,
   "metadata": {
    "collapsed": false
   },
   "outputs": [],
   "source": [
    "\"\"\"\n",
    "DON'T MODIFY ANYTHING IN THIS CELL\n",
    "\"\"\"\n",
    "# Preprocess Training, Validation, and Testing Data\n",
    "helper.preprocess_and_save_data(cifar10_dataset_folder_path, normalize, one_hot_encode)"
   ]
  },
  {
   "cell_type": "markdown",
   "metadata": {},
   "source": [
    "# Check Point\n",
    "This is your first checkpoint.  If you ever decide to come back to this notebook or have to restart the notebook, you can start from here.  The preprocessed data has been saved to disk."
   ]
  },
  {
   "cell_type": "code",
   "execution_count": 7,
   "metadata": {
    "collapsed": false
   },
   "outputs": [],
   "source": [
    "\"\"\"\n",
    "DON'T MODIFY ANYTHING IN THIS CELL\n",
    "\"\"\"\n",
    "import pickle\n",
    "import problem_unittests as tests\n",
    "import helper\n",
    "\n",
    "# Load the Preprocessed Validation data\n",
    "valid_features, valid_labels = pickle.load(open('preprocess_validation.p', mode='rb'))"
   ]
  },
  {
   "cell_type": "markdown",
   "metadata": {},
   "source": [
    "## Build the network\n",
    "For the neural network, you'll build each layer into a function.  Most of the code you've seen has been outside of functions. To test your code more thoroughly, we require that you put each layer in a function.  This allows us to give you better feedback and test for simple mistakes using our unittests before you submit your project.\n",
    "\n",
    ">**Note:** If you're finding it hard to dedicate enough time for this course each week, we've provided a small shortcut to this part of the project. In the next couple of problems, you'll have the option to use classes from the [TensorFlow Layers](https://www.tensorflow.org/api_docs/python/tf/layers) or [TensorFlow Layers (contrib)](https://www.tensorflow.org/api_guides/python/contrib.layers) packages to build each layer, except the layers you build in the \"Convolutional and Max Pooling Layer\" section.  TF Layers is similar to Keras's and TFLearn's abstraction to layers, so it's easy to pickup.\n",
    "\n",
    ">However, if you would like to get the most out of this course, try to solve all the problems _without_ using anything from the TF Layers packages. You **can** still use classes from other packages that happen to have the same name as ones you find in TF Layers! For example, instead of using the TF Layers version of the `conv2d` class, [tf.layers.conv2d](https://www.tensorflow.org/api_docs/python/tf/layers/conv2d), you would want to use the TF Neural Network version of `conv2d`, [tf.nn.conv2d](https://www.tensorflow.org/api_docs/python/tf/nn/conv2d). \n",
    "\n",
    "Let's begin!\n",
    "\n",
    "### Input\n",
    "The neural network needs to read the image data, one-hot encoded labels, and dropout keep probability. Implement the following functions\n",
    "* Implement `neural_net_image_input`\n",
    " * Return a [TF Placeholder](https://www.tensorflow.org/api_docs/python/tf/placeholder)\n",
    " * Set the shape using `image_shape` with batch size set to `None`.\n",
    " * Name the TensorFlow placeholder \"x\" using the TensorFlow `name` parameter in the [TF Placeholder](https://www.tensorflow.org/api_docs/python/tf/placeholder).\n",
    "* Implement `neural_net_label_input`\n",
    " * Return a [TF Placeholder](https://www.tensorflow.org/api_docs/python/tf/placeholder)\n",
    " * Set the shape using `n_classes` with batch size set to `None`.\n",
    " * Name the TensorFlow placeholder \"y\" using the TensorFlow `name` parameter in the [TF Placeholder](https://www.tensorflow.org/api_docs/python/tf/placeholder).\n",
    "* Implement `neural_net_keep_prob_input`\n",
    " * Return a [TF Placeholder](https://www.tensorflow.org/api_docs/python/tf/placeholder) for dropout keep probability.\n",
    " * Name the TensorFlow placeholder \"keep_prob\" using the TensorFlow `name` parameter in the [TF Placeholder](https://www.tensorflow.org/api_docs/python/tf/placeholder).\n",
    "\n",
    "These names will be used at the end of the project to load your saved model.\n",
    "\n",
    "Note: `None` for shapes in TensorFlow allow for a dynamic size."
   ]
  },
  {
   "cell_type": "code",
   "execution_count": 8,
   "metadata": {
    "collapsed": false
   },
   "outputs": [
    {
     "name": "stdout",
     "output_type": "stream",
     "text": [
      "Image Input Tests Passed.\n",
      "Label Input Tests Passed.\n",
      "Keep Prob Tests Passed.\n"
     ]
    }
   ],
   "source": [
    "import tensorflow as tf\n",
    "\n",
    "def neural_net_image_input(image_shape):\n",
    "    \"\"\"\n",
    "    Return a Tensor for a batch of image input\n",
    "    : image_shape: Shape of the images\n",
    "    : return: Tensor for image input.\n",
    "    \"\"\"\n",
    "    input = tf.placeholder(\n",
    "        tf.float32,\n",
    "        name=\"x\",\n",
    "        shape=[None, image_shape[0], image_shape[1], image_shape[2]])\n",
    "    \n",
    "    return input\n",
    "\n",
    "\n",
    "def neural_net_label_input(n_classes):\n",
    "    \"\"\"\n",
    "    Return a Tensor for a batch of label input\n",
    "    : n_classes: Number of classes\n",
    "    : return: Tensor for label input.\n",
    "    \"\"\"\n",
    "    labels = tf.placeholder(\n",
    "        tf.float32,\n",
    "        name=\"y\",\n",
    "        shape=[None, n_classes])\n",
    "    return labels\n",
    "\n",
    "\n",
    "def neural_net_keep_prob_input():\n",
    "    \"\"\"\n",
    "    Return a Tensor for keep probability\n",
    "    : return: Tensor for keep probability.\n",
    "    \"\"\"\n",
    "    prop = tf.placeholder(\n",
    "        tf.float32,\n",
    "        name=\"keep_prob\",\n",
    "        shape=None)\n",
    "    \n",
    "    return prop\n",
    "\n",
    "\n",
    "\"\"\"\n",
    "DON'T MODIFY ANYTHING IN THIS CELL THAT IS BELOW THIS LINE\n",
    "\"\"\"\n",
    "tf.reset_default_graph()\n",
    "tests.test_nn_image_inputs(neural_net_image_input)\n",
    "tests.test_nn_label_inputs(neural_net_label_input)\n",
    "tests.test_nn_keep_prob_inputs(neural_net_keep_prob_input)"
   ]
  },
  {
   "cell_type": "markdown",
   "metadata": {},
   "source": [
    "### Convolution and Max Pooling Layer\n",
    "Convolution layers have a lot of success with images. For this code cell, you should implement the function `conv2d_maxpool` to apply convolution then max pooling:\n",
    "* Create the weight and bias using `conv_ksize`, `conv_num_outputs` and the shape of `x_tensor`.\n",
    "* Apply a convolution to `x_tensor` using weight and `conv_strides`.\n",
    " * We recommend you use same padding, but you're welcome to use any padding.\n",
    "* Add bias\n",
    "* Add a nonlinear activation to the convolution.\n",
    "* Apply Max Pooling using `pool_ksize` and `pool_strides`.\n",
    " * We recommend you use same padding, but you're welcome to use any padding.\n",
    "\n",
    "**Note:** You **can't** use [TensorFlow Layers](https://www.tensorflow.org/api_docs/python/tf/layers) or [TensorFlow Layers (contrib)](https://www.tensorflow.org/api_guides/python/contrib.layers) for **this** layer, but you can still use TensorFlow's [Neural Network](https://www.tensorflow.org/api_docs/python/tf/nn) package. You may still use the shortcut option for all the **other** layers."
   ]
  },
  {
   "cell_type": "code",
   "execution_count": 9,
   "metadata": {
    "collapsed": false
   },
   "outputs": [
    {
     "name": "stdout",
     "output_type": "stream",
     "text": [
      "Tests Passed\n"
     ]
    }
   ],
   "source": [
    "def conv2d_maxpool(x_tensor, conv_num_outputs, conv_ksize, conv_strides, pool_ksize, pool_strides):\n",
    "    \"\"\"\n",
    "    Apply convolution then max pooling to x_tensor\n",
    "    :param x_tensor: TensorFlow Tensor\n",
    "    :param conv_num_outputs: Number of outputs for the convolutional layer\n",
    "    :param conv_ksize: kernal size 2-D Tuple for the convolutional layer\n",
    "    :param conv_strides: Stride 2-D Tuple for convolution\n",
    "    :param pool_ksize: kernal size 2-D Tuple for pool\n",
    "    :param pool_strides: Stride 2-D Tuple for pool\n",
    "    : return: A tensor that represents convolution and max pooling of x_tensor\n",
    "    \"\"\"\n",
    "    [_, height, width, channels] = x_tensor.get_shape().as_list()\n",
    "    \n",
    "    ( stride_h , stride_w ) = conv_strides\n",
    "    strides = (1, stride_h, stride_w, 1)\n",
    "    padding = 1\n",
    "    ( h_p , w_p ) = pool_strides\n",
    "    \n",
    "    p_strides = (1, h_p, w_p, 1)\n",
    "    \n",
    "    ( a , b ) = pool_ksize\n",
    "    ksize = (1, a, b, 1)\n",
    "    \n",
    "    weight_shape = [*conv_ksize, channels, conv_num_outputs]\n",
    "    # Set weights\n",
    "#     weights = tf.Variable(\n",
    "#         tf.truncated_normal([\n",
    "#             height,\n",
    "#             width,\n",
    "#             channels,\n",
    "#             conv_num_outputs\n",
    "#         ]))\n",
    "    \n",
    "    weights = tf.Variable(tf.random_normal(weight_shape, stddev=0.1))\n",
    "    # Set bias\n",
    "    bias = tf.Variable(tf.zeros(conv_num_outputs))\n",
    "\n",
    "    # Apply convolution\n",
    "    conv_layer = tf.nn.conv2d(x_tensor, weights, strides, padding='SAME')\n",
    "\n",
    "    # Add bias\n",
    "    conv_layer = np.add(conv_layer, bias)\n",
    "\n",
    "    conv_layer = tf.nn.relu(conv_layer)\n",
    "    \n",
    "    conv_layer = tf.nn.max_pool(\n",
    "        conv_layer,\n",
    "        ksize=ksize,\n",
    "        strides=p_strides,\n",
    "        padding='SAME')\n",
    "    \n",
    "    return conv_layer \n",
    "\n",
    "\n",
    "\"\"\"\n",
    "DON'T MODIFY ANYTHING IN THIS CELL THAT IS BELOW THIS LINE\n",
    "\"\"\"\n",
    "tests.test_con_pool(conv2d_maxpool)"
   ]
  },
  {
   "cell_type": "markdown",
   "metadata": {},
   "source": [
    "### Flatten Layer\n",
    "Implement the `flatten` function to change the dimension of `x_tensor` from a 4-D tensor to a 2-D tensor.  The output should be the shape (*Batch Size*, *Flattened Image Size*). Shortcut option: you can use classes from the [TensorFlow Layers](https://www.tensorflow.org/api_docs/python/tf/layers) or [TensorFlow Layers (contrib)](https://www.tensorflow.org/api_guides/python/contrib.layers) packages for this layer. For more of a challenge, only use other TensorFlow packages."
   ]
  },
  {
   "cell_type": "code",
   "execution_count": 10,
   "metadata": {
    "collapsed": false
   },
   "outputs": [
    {
     "name": "stdout",
     "output_type": "stream",
     "text": [
      "Tests Passed\n"
     ]
    }
   ],
   "source": [
    "def flatten(x_tensor):\n",
    "    \"\"\"\n",
    "    Flatten x_tensor to (Batch Size, Flattened Image Size)\n",
    "    : x_tensor: A tensor of size (Batch Size, ...), where ... are the image dimensions.\n",
    "    : return: A tensor of size (Batch Size, Flattened Image Size).\n",
    "    \"\"\"\n",
    "    # TODO: Implement Function\n",
    "\n",
    "    return tf.contrib.layers.flatten(x_tensor)\n",
    "\n",
    "\n",
    "\"\"\"\n",
    "DON'T MODIFY ANYTHING IN THIS CELL THAT IS BELOW THIS LINE\n",
    "\"\"\"\n",
    "tests.test_flatten(flatten)"
   ]
  },
  {
   "cell_type": "markdown",
   "metadata": {},
   "source": [
    "### Fully-Connected Layer\n",
    "Implement the `fully_conn` function to apply a fully connected layer to `x_tensor` with the shape (*Batch Size*, *num_outputs*). Shortcut option: you can use classes from the [TensorFlow Layers](https://www.tensorflow.org/api_docs/python/tf/layers) or [TensorFlow Layers (contrib)](https://www.tensorflow.org/api_guides/python/contrib.layers) packages for this layer. For more of a challenge, only use other TensorFlow packages."
   ]
  },
  {
   "cell_type": "code",
   "execution_count": 11,
   "metadata": {
    "collapsed": false
   },
   "outputs": [
    {
     "name": "stdout",
     "output_type": "stream",
     "text": [
      "Tests Passed\n"
     ]
    }
   ],
   "source": [
    "def fully_conn(x_tensor, num_outputs):\n",
    "    \"\"\"\n",
    "    Apply a fully connected layer to x_tensor using weight and bias\n",
    "    : x_tensor: A 2-D tensor where the first dimension is batch size.\n",
    "    : num_outputs: The number of output that the new tensor should be.\n",
    "    : return: A 2-D tensor where the second dimension is num_outputs.\n",
    "    \"\"\"\n",
    "    # TODO: Implement Function\n",
    "    results = tf.layers.dense(inputs=x_tensor, units=num_outputs, activation=tf.nn.relu)\n",
    "    return results\n",
    "\n",
    "\n",
    "\"\"\"\n",
    "DON'T MODIFY ANYTHING IN THIS CELL THAT IS BELOW THIS LINE\n",
    "\"\"\"\n",
    "tests.test_fully_conn(fully_conn)"
   ]
  },
  {
   "cell_type": "markdown",
   "metadata": {},
   "source": [
    "### Output Layer\n",
    "Implement the `output` function to apply a fully connected layer to `x_tensor` with the shape (*Batch Size*, *num_outputs*). Shortcut option: you can use classes from the [TensorFlow Layers](https://www.tensorflow.org/api_docs/python/tf/layers) or [TensorFlow Layers (contrib)](https://www.tensorflow.org/api_guides/python/contrib.layers) packages for this layer. For more of a challenge, only use other TensorFlow packages.\n",
    "\n",
    "**Note:** Activation, softmax, or cross entropy should **not** be applied to this."
   ]
  },
  {
   "cell_type": "code",
   "execution_count": 12,
   "metadata": {
    "collapsed": false
   },
   "outputs": [
    {
     "name": "stdout",
     "output_type": "stream",
     "text": [
      "Tests Passed\n"
     ]
    }
   ],
   "source": [
    "def output(x_tensor, num_outputs):\n",
    "    \"\"\"\n",
    "    Apply a output layer to x_tensor using weight and bias\n",
    "    : x_tensor: A 2-D tensor where the first dimension is batch size.\n",
    "    : num_outputs: The number of output that the new tensor should be.\n",
    "    : return: A 2-D tensor where the second dimension is num_outputs.\n",
    "    \"\"\"\n",
    "    # TODO: Implement Function\n",
    "    results = tf.layers.dense(inputs=x_tensor, units=num_outputs)\n",
    "    return results\n",
    "\n",
    "\n",
    "\"\"\"\n",
    "DON'T MODIFY ANYTHING IN THIS CELL THAT IS BELOW THIS LINE\n",
    "\"\"\"\n",
    "tests.test_output(output)"
   ]
  },
  {
   "cell_type": "markdown",
   "metadata": {},
   "source": [
    "### Create Convolutional Model\n",
    "Implement the function `conv_net` to create a convolutional neural network model. The function takes in a batch of images, `x`, and outputs logits.  Use the layers you created above to create this model:\n",
    "\n",
    "* Apply 1, 2, or 3 Convolution and Max Pool layers\n",
    "* Apply a Flatten Layer\n",
    "* Apply 1, 2, or 3 Fully Connected Layers\n",
    "* Apply an Output Layer\n",
    "* Return the output\n",
    "* Apply [TensorFlow's Dropout](https://www.tensorflow.org/api_docs/python/tf/nn/dropout) to one or more layers in the model using `keep_prob`. "
   ]
  },
  {
   "cell_type": "code",
   "execution_count": 166,
   "metadata": {
    "collapsed": false
   },
   "outputs": [
    {
     "name": "stdout",
     "output_type": "stream",
     "text": [
      "Neural Network Built!\n"
     ]
    }
   ],
   "source": [
    "def conv_net(x, keep_prob):\n",
    "    \"\"\"\n",
    "    Create a convolutional neural network model\n",
    "    : x: Placeholder tensor that holds image data.\n",
    "    : keep_prob: Placeholder tensor that hold dropout keep probability.\n",
    "    : return: Tensor that represents logits\n",
    "    \"\"\"\n",
    "    # TODO: Apply 1, 2, or 3 Convolution and Max Pool layers\n",
    "    #    Play around with different number of outputs, kernel size and stride\n",
    "    # Function Definition from Above:\n",
    "\n",
    "    x_tensor = x\n",
    "    conv_num_outputs = 4\n",
    "    conv_ksize = (2, 2)\n",
    "    conv_strides = (2, 2)\n",
    "    pool_ksize = (2, 2)\n",
    "    pool_strides = (2, 2)\n",
    "    \n",
    "    conv_layer_1 = conv2d_maxpool(x_tensor, conv_num_outputs, conv_ksize, conv_strides, pool_ksize, pool_strides)\n",
    "    conv_layer_2 = conv2d_maxpool(conv_layer_1, 128, (4, 4), (1, 1), (2, 2), (2, 2))\n",
    "#     conv_layer_3 = conv2d_maxpool(conv_layer_2, 32, (4, 4), (1, 1), (2, 2), (2, 2))\n",
    "\n",
    "    # TODO: Apply a Flatten Layer\n",
    "    # Function Definition from Above:\n",
    "    flatten_layer = flatten(conv_layer_2)\n",
    "    \n",
    "\n",
    "    # TODO: Apply 1, 2, or 3 Fully Connected Layers\n",
    "    #    Play around with different number of outputs\n",
    "    # Function Definition from Above:\n",
    "    num_outputs = 10\n",
    "    conn_layer_1 = fully_conn(flatten_layer, 128)\n",
    "    conn_layer_1 = tf.nn.dropout(conn_layer_1, keep_prob)\n",
    "    \n",
    "#     conn_layer_2 = fully_conn(conn_layer_1, 64)\n",
    "#     conn_layer_2 = tf.nn.dropout(conn_layer_2, keep_prob)\n",
    "    \n",
    "#     conn_layer_3 = fully_conn(conn_layer_2, 32)\n",
    "#     conn_layer_3 = tf.nn.dropout(conn_layer_3, keep_prob)\n",
    "    \n",
    "    # TODO: Apply an Output Layer\n",
    "    #    Set this to the number of classes\n",
    "    # Function Definition from Above:\n",
    "    results = output(conn_layer_1, num_outputs)\n",
    "    \n",
    "    \n",
    "    # TODO: return output\n",
    "    return results\n",
    "\n",
    "\n",
    "\"\"\"\n",
    "DON'T MODIFY ANYTHING IN THIS CELL THAT IS BELOW THIS LINE\n",
    "\"\"\"\n",
    "\n",
    "##############################\n",
    "## Build the Neural Network ##\n",
    "##############################\n",
    "\n",
    "# Remove previous weights, bias, inputs, etc..\n",
    "tf.reset_default_graph()\n",
    "\n",
    "# Inputs\n",
    "x = neural_net_image_input((32, 32, 3))\n",
    "y = neural_net_label_input(10)\n",
    "keep_prob = neural_net_keep_prob_input()\n",
    "\n",
    "# Model\n",
    "logits = conv_net(x, keep_prob)\n",
    "\n",
    "# Name logits Tensor, so that is can be loaded from disk after training\n",
    "logits = tf.identity(logits, name='logits')\n",
    "\n",
    "# Loss and Optimizer\n",
    "cost = tf.reduce_mean(tf.nn.softmax_cross_entropy_with_logits(logits=logits, labels=y))\n",
    "optimizer = tf.train.AdamOptimizer().minimize(cost)\n",
    "\n",
    "# Accuracy\n",
    "correct_pred = tf.equal(tf.argmax(logits, 1), tf.argmax(y, 1))\n",
    "accuracy = tf.reduce_mean(tf.cast(correct_pred, tf.float32), name='accuracy')\n",
    "\n",
    "tests.test_conv_net(conv_net)"
   ]
  },
  {
   "cell_type": "markdown",
   "metadata": {},
   "source": [
    "## Train the Neural Network\n",
    "### Single Optimization\n",
    "Implement the function `train_neural_network` to do a single optimization.  The optimization should use `optimizer` to optimize in `session` with a `feed_dict` of the following:\n",
    "* `x` for image input\n",
    "* `y` for labels\n",
    "* `keep_prob` for keep probability for dropout\n",
    "\n",
    "This function will be called for each batch, so `tf.global_variables_initializer()` has already been called.\n",
    "\n",
    "Note: Nothing needs to be returned. This function is only optimizing the neural network."
   ]
  },
  {
   "cell_type": "code",
   "execution_count": 167,
   "metadata": {
    "collapsed": false
   },
   "outputs": [
    {
     "name": "stdout",
     "output_type": "stream",
     "text": [
      "Tests Passed\n"
     ]
    }
   ],
   "source": [
    "def train_neural_network(session, optimizer, keep_probability, feature_batch, label_batch):\n",
    "    \"\"\"\n",
    "    Optimize the session on a batch of images and labels\n",
    "    : session: Current TensorFlow session\n",
    "    : optimizer: TensorFlow optimizer function\n",
    "    : keep_probability: keep probability\n",
    "    : feature_batch: Batch of Numpy image data\n",
    "    : label_batch: Batch of Numpy label data\n",
    "    \"\"\"\n",
    "    # TODO: Implement Function\n",
    "    session.run(\n",
    "        optimizer, \n",
    "        feed_dict={x:feature_batch, y:label_batch, keep_prob:keep_probability})\n",
    "    \n",
    "    \n",
    "    pass\n",
    "\n",
    "\n",
    "\"\"\"\n",
    "DON'T MODIFY ANYTHING IN THIS CELL THAT IS BELOW THIS LINE\n",
    "\"\"\"\n",
    "tests.test_train_nn(train_neural_network)"
   ]
  },
  {
   "cell_type": "markdown",
   "metadata": {},
   "source": [
    "### Show Stats\n",
    "Implement the function `print_stats` to print loss and validation accuracy.  Use the global variables `valid_features` and `valid_labels` to calculate validation accuracy.  Use a keep probability of `1.0` to calculate the loss and validation accuracy."
   ]
  },
  {
   "cell_type": "code",
   "execution_count": 168,
   "metadata": {
    "collapsed": false
   },
   "outputs": [],
   "source": [
    "def print_stats(session, feature_batch, label_batch, cost, accuracy):\n",
    "    \"\"\"\n",
    "    Print information about loss and validation accuracy\n",
    "    : session: Current TensorFlow session\n",
    "    : feature_batch: Batch of Numpy image data\n",
    "    : label_batch: Batch of Numpy label data\n",
    "    : cost: TensorFlow cost function\n",
    "    : accuracy: TensorFlow accuracy function\n",
    "    \"\"\"\n",
    "    # TODO: Implement Function\n",
    "    loss = session.run(cost, feed_dict={x: feature_batch, y: label_batch, keep_prob: 1.0})\n",
    "    valid_acc = session.run(accuracy, feed_dict={x: valid_features, y: valid_labels, keep_prob: 1.0})\n",
    "    print('Loss: {:>10.4f} Accuracy: {:.6f}'.format(loss,valid_acc))\n",
    "\n",
    "    pass"
   ]
  },
  {
   "cell_type": "markdown",
   "metadata": {},
   "source": [
    "### Hyperparameters\n",
    "Tune the following parameters:\n",
    "* Set `epochs` to the number of iterations until the network stops learning or start overfitting\n",
    "* Set `batch_size` to the highest number that your machine has memory for.  Most people set them to common sizes of memory:\n",
    " * 64\n",
    " * 128\n",
    " * 256\n",
    " * ...\n",
    "* Set `keep_probability` to the probability of keeping a node using dropout"
   ]
  },
  {
   "cell_type": "code",
   "execution_count": 174,
   "metadata": {
    "collapsed": false
   },
   "outputs": [],
   "source": [
    "# TODO: Tune Parameters\n",
    "epochs = 32\n",
    "batch_size = 128\n",
    "keep_probability = 0.85\n"
   ]
  },
  {
   "cell_type": "markdown",
   "metadata": {},
   "source": [
    "### Train on a Single CIFAR-10 Batch\n",
    "Instead of training the neural network on all the CIFAR-10 batches of data, let's use a single batch. This should save time while you iterate on the model to get a better accuracy.  Once the final validation accuracy is 50% or greater, run the model on all the data in the next section."
   ]
  },
  {
   "cell_type": "code",
   "execution_count": 175,
   "metadata": {
    "collapsed": false
   },
   "outputs": [
    {
     "name": "stdout",
     "output_type": "stream",
     "text": [
      "Checking the Training on a Single Batch...\n",
      "Epoch  1, CIFAR-10 Batch 1:  Loss:     2.1114 Accuracy: 0.312800\n",
      "Epoch  2, CIFAR-10 Batch 1:  Loss:     1.9736 Accuracy: 0.339600\n",
      "Epoch  3, CIFAR-10 Batch 1:  Loss:     1.7830 Accuracy: 0.387000\n",
      "Epoch  4, CIFAR-10 Batch 1:  Loss:     1.6952 Accuracy: 0.418800\n",
      "Epoch  5, CIFAR-10 Batch 1:  Loss:     1.6117 Accuracy: 0.442000\n",
      "Epoch  6, CIFAR-10 Batch 1:  Loss:     1.5482 Accuracy: 0.454400\n",
      "Epoch  7, CIFAR-10 Batch 1:  Loss:     1.4408 Accuracy: 0.471400\n",
      "Epoch  8, CIFAR-10 Batch 1:  Loss:     1.3992 Accuracy: 0.479200\n",
      "Epoch  9, CIFAR-10 Batch 1:  Loss:     1.3327 Accuracy: 0.490400\n",
      "Epoch 10, CIFAR-10 Batch 1:  Loss:     1.2687 Accuracy: 0.498400\n",
      "Epoch 11, CIFAR-10 Batch 1:  Loss:     1.2299 Accuracy: 0.497600\n",
      "Epoch 12, CIFAR-10 Batch 1:  Loss:     1.1466 Accuracy: 0.501400\n",
      "Epoch 13, CIFAR-10 Batch 1:  Loss:     1.1262 Accuracy: 0.513000\n",
      "Epoch 14, CIFAR-10 Batch 1:  Loss:     1.0582 Accuracy: 0.513000\n",
      "Epoch 15, CIFAR-10 Batch 1:  Loss:     1.0096 Accuracy: 0.516000\n",
      "Epoch 16, CIFAR-10 Batch 1:  Loss:     0.9571 Accuracy: 0.516600\n",
      "Epoch 17, CIFAR-10 Batch 1:  Loss:     0.9081 Accuracy: 0.521400\n",
      "Epoch 18, CIFAR-10 Batch 1:  Loss:     0.8799 Accuracy: 0.525600\n",
      "Epoch 19, CIFAR-10 Batch 1:  Loss:     0.8043 Accuracy: 0.534800\n",
      "Epoch 20, CIFAR-10 Batch 1:  Loss:     0.7400 Accuracy: 0.532400\n",
      "Epoch 21, CIFAR-10 Batch 1:  Loss:     0.7137 Accuracy: 0.532400\n",
      "Epoch 22, CIFAR-10 Batch 1:  Loss:     0.6556 Accuracy: 0.534200\n",
      "Epoch 23, CIFAR-10 Batch 1:  Loss:     0.6398 Accuracy: 0.535800\n",
      "Epoch 24, CIFAR-10 Batch 1:  Loss:     0.5931 Accuracy: 0.536800\n",
      "Epoch 25, CIFAR-10 Batch 1:  Loss:     0.5313 Accuracy: 0.541000\n",
      "Epoch 26, CIFAR-10 Batch 1:  Loss:     0.5080 Accuracy: 0.538400\n",
      "Epoch 27, CIFAR-10 Batch 1:  Loss:     0.4761 Accuracy: 0.545600\n",
      "Epoch 28, CIFAR-10 Batch 1:  Loss:     0.4361 Accuracy: 0.541800\n",
      "Epoch 29, CIFAR-10 Batch 1:  Loss:     0.3927 Accuracy: 0.539800\n",
      "Epoch 30, CIFAR-10 Batch 1:  Loss:     0.3634 Accuracy: 0.539800\n",
      "Epoch 31, CIFAR-10 Batch 1:  Loss:     0.3421 Accuracy: 0.539000\n",
      "Epoch 32, CIFAR-10 Batch 1:  Loss:     0.3120 Accuracy: 0.539000\n"
     ]
    }
   ],
   "source": [
    "\"\"\"\n",
    "DON'T MODIFY ANYTHING IN THIS CELL\n",
    "\"\"\"\n",
    "print('Checking the Training on a Single Batch...')\n",
    "with tf.Session() as sess:\n",
    "    # Initializing the variables\n",
    "    sess.run(tf.global_variables_initializer())\n",
    "    \n",
    "    # Training cycle\n",
    "    for epoch in range(epochs):\n",
    "        batch_i = 1\n",
    "        for batch_features, batch_labels in helper.load_preprocess_training_batch(batch_i, batch_size):\n",
    "            train_neural_network(sess, optimizer, keep_probability, batch_features, batch_labels)\n",
    "        print('Epoch {:>2}, CIFAR-10 Batch {}:  '.format(epoch + 1, batch_i), end='')\n",
    "        print_stats(sess, batch_features, batch_labels, cost, accuracy)"
   ]
  },
  {
   "cell_type": "markdown",
   "metadata": {},
   "source": [
    "### Fully Train the Model\n",
    "Now that you got a good accuracy with a single CIFAR-10 batch, try it with all five batches."
   ]
  },
  {
   "cell_type": "code",
   "execution_count": 176,
   "metadata": {
    "collapsed": false
   },
   "outputs": [
    {
     "name": "stdout",
     "output_type": "stream",
     "text": [
      "Training...\n",
      "Epoch  1, CIFAR-10 Batch 1:  Loss:     2.1489 Accuracy: 0.328200\n",
      "Epoch  1, CIFAR-10 Batch 2:  Loss:     1.8465 Accuracy: 0.384600\n",
      "Epoch  1, CIFAR-10 Batch 3:  Loss:     1.5306 Accuracy: 0.421200\n",
      "Epoch  1, CIFAR-10 Batch 4:  Loss:     1.6426 Accuracy: 0.439800\n",
      "Epoch  1, CIFAR-10 Batch 5:  Loss:     1.5735 Accuracy: 0.453800\n",
      "Epoch  2, CIFAR-10 Batch 1:  Loss:     1.7363 Accuracy: 0.475200\n",
      "Epoch  2, CIFAR-10 Batch 2:  Loss:     1.5637 Accuracy: 0.485000\n",
      "Epoch  2, CIFAR-10 Batch 3:  Loss:     1.2483 Accuracy: 0.487400\n",
      "Epoch  2, CIFAR-10 Batch 4:  Loss:     1.4327 Accuracy: 0.503000\n",
      "Epoch  2, CIFAR-10 Batch 5:  Loss:     1.3886 Accuracy: 0.500600\n",
      "Epoch  3, CIFAR-10 Batch 1:  Loss:     1.5631 Accuracy: 0.516200\n",
      "Epoch  3, CIFAR-10 Batch 2:  Loss:     1.4220 Accuracy: 0.515800\n",
      "Epoch  3, CIFAR-10 Batch 3:  Loss:     1.1757 Accuracy: 0.516400\n",
      "Epoch  3, CIFAR-10 Batch 4:  Loss:     1.2809 Accuracy: 0.537800\n",
      "Epoch  3, CIFAR-10 Batch 5:  Loss:     1.2653 Accuracy: 0.523800\n",
      "Epoch  4, CIFAR-10 Batch 1:  Loss:     1.4409 Accuracy: 0.534800\n",
      "Epoch  4, CIFAR-10 Batch 2:  Loss:     1.3015 Accuracy: 0.542600\n",
      "Epoch  4, CIFAR-10 Batch 3:  Loss:     1.1042 Accuracy: 0.544000\n",
      "Epoch  4, CIFAR-10 Batch 4:  Loss:     1.1728 Accuracy: 0.552200\n",
      "Epoch  4, CIFAR-10 Batch 5:  Loss:     1.1694 Accuracy: 0.547400\n",
      "Epoch  5, CIFAR-10 Batch 1:  Loss:     1.3683 Accuracy: 0.547000\n",
      "Epoch  5, CIFAR-10 Batch 2:  Loss:     1.1724 Accuracy: 0.556600\n",
      "Epoch  5, CIFAR-10 Batch 3:  Loss:     1.0548 Accuracy: 0.552400\n",
      "Epoch  5, CIFAR-10 Batch 4:  Loss:     1.1014 Accuracy: 0.561400\n",
      "Epoch  5, CIFAR-10 Batch 5:  Loss:     1.0812 Accuracy: 0.549600\n",
      "Epoch  6, CIFAR-10 Batch 1:  Loss:     1.2879 Accuracy: 0.569000\n",
      "Epoch  6, CIFAR-10 Batch 2:  Loss:     1.1034 Accuracy: 0.568000\n",
      "Epoch  6, CIFAR-10 Batch 3:  Loss:     0.9858 Accuracy: 0.567000\n",
      "Epoch  6, CIFAR-10 Batch 4:  Loss:     1.0263 Accuracy: 0.575200\n",
      "Epoch  6, CIFAR-10 Batch 5:  Loss:     0.9716 Accuracy: 0.570400\n",
      "Epoch  7, CIFAR-10 Batch 1:  Loss:     1.1880 Accuracy: 0.572600\n",
      "Epoch  7, CIFAR-10 Batch 2:  Loss:     1.0386 Accuracy: 0.577800\n",
      "Epoch  7, CIFAR-10 Batch 3:  Loss:     0.9416 Accuracy: 0.580600\n",
      "Epoch  7, CIFAR-10 Batch 4:  Loss:     0.9626 Accuracy: 0.581400\n",
      "Epoch  7, CIFAR-10 Batch 5:  Loss:     0.9088 Accuracy: 0.581600\n",
      "Epoch  8, CIFAR-10 Batch 1:  Loss:     1.0890 Accuracy: 0.586400\n",
      "Epoch  8, CIFAR-10 Batch 2:  Loss:     0.9719 Accuracy: 0.580400\n",
      "Epoch  8, CIFAR-10 Batch 3:  Loss:     0.8771 Accuracy: 0.581400\n",
      "Epoch  8, CIFAR-10 Batch 4:  Loss:     0.8883 Accuracy: 0.586600\n",
      "Epoch  8, CIFAR-10 Batch 5:  Loss:     0.8193 Accuracy: 0.586000\n",
      "Epoch  9, CIFAR-10 Batch 1:  Loss:     1.0439 Accuracy: 0.591600\n",
      "Epoch  9, CIFAR-10 Batch 2:  Loss:     0.8857 Accuracy: 0.590400\n",
      "Epoch  9, CIFAR-10 Batch 3:  Loss:     0.8166 Accuracy: 0.587400\n",
      "Epoch  9, CIFAR-10 Batch 4:  Loss:     0.8488 Accuracy: 0.592000\n",
      "Epoch  9, CIFAR-10 Batch 5:  Loss:     0.7687 Accuracy: 0.590800\n",
      "Epoch 10, CIFAR-10 Batch 1:  Loss:     0.9818 Accuracy: 0.598000\n",
      "Epoch 10, CIFAR-10 Batch 2:  Loss:     0.8567 Accuracy: 0.600200\n",
      "Epoch 10, CIFAR-10 Batch 3:  Loss:     0.7644 Accuracy: 0.598400\n",
      "Epoch 10, CIFAR-10 Batch 4:  Loss:     0.7879 Accuracy: 0.599600\n",
      "Epoch 10, CIFAR-10 Batch 5:  Loss:     0.7076 Accuracy: 0.592400\n",
      "Epoch 11, CIFAR-10 Batch 1:  Loss:     0.9599 Accuracy: 0.600400\n",
      "Epoch 11, CIFAR-10 Batch 2:  Loss:     0.7658 Accuracy: 0.602000\n",
      "Epoch 11, CIFAR-10 Batch 3:  Loss:     0.7211 Accuracy: 0.594800\n",
      "Epoch 11, CIFAR-10 Batch 4:  Loss:     0.7322 Accuracy: 0.604200\n",
      "Epoch 11, CIFAR-10 Batch 5:  Loss:     0.6515 Accuracy: 0.600400\n",
      "Epoch 12, CIFAR-10 Batch 1:  Loss:     0.8446 Accuracy: 0.610400\n",
      "Epoch 12, CIFAR-10 Batch 2:  Loss:     0.7740 Accuracy: 0.600800\n",
      "Epoch 12, CIFAR-10 Batch 3:  Loss:     0.6937 Accuracy: 0.601800\n",
      "Epoch 12, CIFAR-10 Batch 4:  Loss:     0.6991 Accuracy: 0.609400\n",
      "Epoch 12, CIFAR-10 Batch 5:  Loss:     0.5954 Accuracy: 0.609200\n",
      "Epoch 13, CIFAR-10 Batch 1:  Loss:     0.8075 Accuracy: 0.611600\n",
      "Epoch 13, CIFAR-10 Batch 2:  Loss:     0.6810 Accuracy: 0.610200\n",
      "Epoch 13, CIFAR-10 Batch 3:  Loss:     0.6434 Accuracy: 0.606600\n",
      "Epoch 13, CIFAR-10 Batch 4:  Loss:     0.6669 Accuracy: 0.611200\n",
      "Epoch 13, CIFAR-10 Batch 5:  Loss:     0.5611 Accuracy: 0.608400\n",
      "Epoch 14, CIFAR-10 Batch 1:  Loss:     0.7113 Accuracy: 0.614400\n",
      "Epoch 14, CIFAR-10 Batch 2:  Loss:     0.6596 Accuracy: 0.605600\n",
      "Epoch 14, CIFAR-10 Batch 3:  Loss:     0.5946 Accuracy: 0.604400\n",
      "Epoch 14, CIFAR-10 Batch 4:  Loss:     0.6225 Accuracy: 0.609600\n",
      "Epoch 14, CIFAR-10 Batch 5:  Loss:     0.5324 Accuracy: 0.608600\n",
      "Epoch 15, CIFAR-10 Batch 1:  Loss:     0.6595 Accuracy: 0.613400\n",
      "Epoch 15, CIFAR-10 Batch 2:  Loss:     0.5823 Accuracy: 0.605400\n",
      "Epoch 15, CIFAR-10 Batch 3:  Loss:     0.5793 Accuracy: 0.613000\n",
      "Epoch 15, CIFAR-10 Batch 4:  Loss:     0.5646 Accuracy: 0.615200\n",
      "Epoch 15, CIFAR-10 Batch 5:  Loss:     0.4841 Accuracy: 0.606200\n",
      "Epoch 16, CIFAR-10 Batch 1:  Loss:     0.6492 Accuracy: 0.621800\n",
      "Epoch 16, CIFAR-10 Batch 2:  Loss:     0.5608 Accuracy: 0.609000\n",
      "Epoch 16, CIFAR-10 Batch 3:  Loss:     0.5341 Accuracy: 0.610400\n",
      "Epoch 16, CIFAR-10 Batch 4:  Loss:     0.5579 Accuracy: 0.616400\n",
      "Epoch 16, CIFAR-10 Batch 5:  Loss:     0.4372 Accuracy: 0.608800\n",
      "Epoch 17, CIFAR-10 Batch 1:  Loss:     0.5688 Accuracy: 0.620800\n",
      "Epoch 17, CIFAR-10 Batch 2:  Loss:     0.5172 Accuracy: 0.609200\n",
      "Epoch 17, CIFAR-10 Batch 3:  Loss:     0.5059 Accuracy: 0.616000\n",
      "Epoch 17, CIFAR-10 Batch 4:  Loss:     0.4897 Accuracy: 0.616200\n",
      "Epoch 17, CIFAR-10 Batch 5:  Loss:     0.4430 Accuracy: 0.611800\n",
      "Epoch 18, CIFAR-10 Batch 1:  Loss:     0.5532 Accuracy: 0.620400\n",
      "Epoch 18, CIFAR-10 Batch 2:  Loss:     0.4779 Accuracy: 0.615400\n",
      "Epoch 18, CIFAR-10 Batch 3:  Loss:     0.4558 Accuracy: 0.616400\n",
      "Epoch 18, CIFAR-10 Batch 4:  Loss:     0.4502 Accuracy: 0.617600\n",
      "Epoch 18, CIFAR-10 Batch 5:  Loss:     0.4312 Accuracy: 0.612000\n",
      "Epoch 19, CIFAR-10 Batch 1:  Loss:     0.5107 Accuracy: 0.619600\n",
      "Epoch 19, CIFAR-10 Batch 2:  Loss:     0.4483 Accuracy: 0.614600\n",
      "Epoch 19, CIFAR-10 Batch 3:  Loss:     0.4706 Accuracy: 0.614200\n",
      "Epoch 19, CIFAR-10 Batch 4:  Loss:     0.4186 Accuracy: 0.615200\n",
      "Epoch 19, CIFAR-10 Batch 5:  Loss:     0.3861 Accuracy: 0.611400\n",
      "Epoch 20, CIFAR-10 Batch 1:  Loss:     0.4798 Accuracy: 0.619600\n",
      "Epoch 20, CIFAR-10 Batch 2:  Loss:     0.4322 Accuracy: 0.617800\n",
      "Epoch 20, CIFAR-10 Batch 3:  Loss:     0.4052 Accuracy: 0.611600\n",
      "Epoch 20, CIFAR-10 Batch 4:  Loss:     0.3803 Accuracy: 0.614800\n",
      "Epoch 20, CIFAR-10 Batch 5:  Loss:     0.3618 Accuracy: 0.613400\n",
      "Epoch 21, CIFAR-10 Batch 1:  Loss:     0.4491 Accuracy: 0.623400\n",
      "Epoch 21, CIFAR-10 Batch 2:  Loss:     0.4238 Accuracy: 0.615000\n",
      "Epoch 21, CIFAR-10 Batch 3:  Loss:     0.3497 Accuracy: 0.615800\n",
      "Epoch 21, CIFAR-10 Batch 4:  Loss:     0.3860 Accuracy: 0.616400\n",
      "Epoch 21, CIFAR-10 Batch 5:  Loss:     0.3318 Accuracy: 0.613200\n",
      "Epoch 22, CIFAR-10 Batch 1:  Loss:     0.4469 Accuracy: 0.618800\n",
      "Epoch 22, CIFAR-10 Batch 2:  Loss:     0.3600 Accuracy: 0.622200\n",
      "Epoch 22, CIFAR-10 Batch 3:  Loss:     0.3536 Accuracy: 0.611600\n",
      "Epoch 22, CIFAR-10 Batch 4:  Loss:     0.3277 Accuracy: 0.615600\n",
      "Epoch 22, CIFAR-10 Batch 5:  Loss:     0.3163 Accuracy: 0.614400\n",
      "Epoch 23, CIFAR-10 Batch 1:  Loss:     0.4350 Accuracy: 0.624800\n",
      "Epoch 23, CIFAR-10 Batch 2:  Loss:     0.3480 Accuracy: 0.620800\n",
      "Epoch 23, CIFAR-10 Batch 3:  Loss:     0.3218 Accuracy: 0.620200\n",
      "Epoch 23, CIFAR-10 Batch 4:  Loss:     0.3328 Accuracy: 0.615200\n",
      "Epoch 23, CIFAR-10 Batch 5:  Loss:     0.2971 Accuracy: 0.614200\n",
      "Epoch 24, CIFAR-10 Batch 1:  Loss:     0.4033 Accuracy: 0.623600\n",
      "Epoch 24, CIFAR-10 Batch 2:  Loss:     0.3421 Accuracy: 0.626200\n",
      "Epoch 24, CIFAR-10 Batch 3:  Loss:     0.3141 Accuracy: 0.612400\n",
      "Epoch 24, CIFAR-10 Batch 4:  Loss:     0.3374 Accuracy: 0.616800\n",
      "Epoch 24, CIFAR-10 Batch 5:  Loss:     0.2674 Accuracy: 0.614800\n",
      "Epoch 25, CIFAR-10 Batch 1:  Loss:     0.3531 Accuracy: 0.619200\n",
      "Epoch 25, CIFAR-10 Batch 2:  Loss:     0.3068 Accuracy: 0.618400\n",
      "Epoch 25, CIFAR-10 Batch 3:  Loss:     0.2955 Accuracy: 0.617400\n",
      "Epoch 25, CIFAR-10 Batch 4:  Loss:     0.2867 Accuracy: 0.613200\n",
      "Epoch 25, CIFAR-10 Batch 5:  Loss:     0.2483 Accuracy: 0.610600\n",
      "Epoch 26, CIFAR-10 Batch 1:  Loss:     0.3528 Accuracy: 0.618000\n",
      "Epoch 26, CIFAR-10 Batch 2:  Loss:     0.2922 Accuracy: 0.614600\n",
      "Epoch 26, CIFAR-10 Batch 3:  Loss:     0.2376 Accuracy: 0.613600\n",
      "Epoch 26, CIFAR-10 Batch 4:  Loss:     0.2731 Accuracy: 0.609000\n",
      "Epoch 26, CIFAR-10 Batch 5:  Loss:     0.2253 Accuracy: 0.616400\n",
      "Epoch 27, CIFAR-10 Batch 1:  Loss:     0.3445 Accuracy: 0.619000\n",
      "Epoch 27, CIFAR-10 Batch 2:  Loss:     0.2844 Accuracy: 0.618800\n",
      "Epoch 27, CIFAR-10 Batch 3:  Loss:     0.2648 Accuracy: 0.616200\n",
      "Epoch 27, CIFAR-10 Batch 4:  Loss:     0.2396 Accuracy: 0.612000\n",
      "Epoch 27, CIFAR-10 Batch 5:  Loss:     0.2280 Accuracy: 0.613000\n",
      "Epoch 28, CIFAR-10 Batch 1:  Loss:     0.3301 Accuracy: 0.616400\n",
      "Epoch 28, CIFAR-10 Batch 2:  Loss:     0.2593 Accuracy: 0.619400\n",
      "Epoch 28, CIFAR-10 Batch 3:  Loss:     0.2630 Accuracy: 0.615000\n",
      "Epoch 28, CIFAR-10 Batch 4:  Loss:     0.2460 Accuracy: 0.607000\n",
      "Epoch 28, CIFAR-10 Batch 5:  Loss:     0.2021 Accuracy: 0.617400\n",
      "Epoch 29, CIFAR-10 Batch 1:  Loss:     0.3171 Accuracy: 0.616600\n",
      "Epoch 29, CIFAR-10 Batch 2:  Loss:     0.2198 Accuracy: 0.621600\n",
      "Epoch 29, CIFAR-10 Batch 3:  Loss:     0.2225 Accuracy: 0.608800\n",
      "Epoch 29, CIFAR-10 Batch 4:  Loss:     0.2062 Accuracy: 0.610200\n",
      "Epoch 29, CIFAR-10 Batch 5:  Loss:     0.2103 Accuracy: 0.615600\n",
      "Epoch 30, CIFAR-10 Batch 1:  Loss:     0.2857 Accuracy: 0.621400\n",
      "Epoch 30, CIFAR-10 Batch 2:  Loss:     0.2039 Accuracy: 0.614000\n",
      "Epoch 30, CIFAR-10 Batch 3:  Loss:     0.2518 Accuracy: 0.602800\n",
      "Epoch 30, CIFAR-10 Batch 4:  Loss:     0.2114 Accuracy: 0.606400\n",
      "Epoch 30, CIFAR-10 Batch 5:  Loss:     0.1881 Accuracy: 0.609400\n",
      "Epoch 31, CIFAR-10 Batch 1:  Loss:     0.2822 Accuracy: 0.615200\n",
      "Epoch 31, CIFAR-10 Batch 2:  Loss:     0.1844 Accuracy: 0.617400\n",
      "Epoch 31, CIFAR-10 Batch 3:  Loss:     0.2331 Accuracy: 0.595200\n",
      "Epoch 31, CIFAR-10 Batch 4:  Loss:     0.2074 Accuracy: 0.602000\n",
      "Epoch 31, CIFAR-10 Batch 5:  Loss:     0.1957 Accuracy: 0.613200\n",
      "Epoch 32, CIFAR-10 Batch 1:  Loss:     0.2272 Accuracy: 0.607200\n",
      "Epoch 32, CIFAR-10 Batch 2:  Loss:     0.1625 Accuracy: 0.604000\n",
      "Epoch 32, CIFAR-10 Batch 3:  Loss:     0.2215 Accuracy: 0.581600\n",
      "Epoch 32, CIFAR-10 Batch 4:  Loss:     0.1880 Accuracy: 0.600600\n",
      "Epoch 32, CIFAR-10 Batch 5:  Loss:     0.1666 Accuracy: 0.614200\n"
     ]
    }
   ],
   "source": [
    "\"\"\"\n",
    "DON'T MODIFY ANYTHING IN THIS CELL\n",
    "\"\"\"\n",
    "save_model_path = './image_classification'\n",
    "\n",
    "print('Training...')\n",
    "with tf.Session() as sess:\n",
    "    # Initializing the variables\n",
    "    sess.run(tf.global_variables_initializer())\n",
    "    \n",
    "    # Training cycle\n",
    "    for epoch in range(epochs):\n",
    "        # Loop over all batches\n",
    "        n_batches = 5\n",
    "        for batch_i in range(1, n_batches + 1):\n",
    "            for batch_features, batch_labels in helper.load_preprocess_training_batch(batch_i, batch_size):\n",
    "                train_neural_network(sess, optimizer, keep_probability, batch_features, batch_labels)\n",
    "            print('Epoch {:>2}, CIFAR-10 Batch {}:  '.format(epoch + 1, batch_i), end='')\n",
    "            print_stats(sess, batch_features, batch_labels, cost, accuracy)\n",
    "            \n",
    "    # Save Model\n",
    "    saver = tf.train.Saver()\n",
    "    save_path = saver.save(sess, save_model_path)"
   ]
  },
  {
   "cell_type": "markdown",
   "metadata": {},
   "source": [
    "# Checkpoint\n",
    "The model has been saved to disk.\n",
    "## Test Model\n",
    "Test your model against the test dataset.  This will be your final accuracy. You should have an accuracy greater than 50%. If you don't, keep tweaking the model architecture and parameters."
   ]
  },
  {
   "cell_type": "code",
   "execution_count": 180,
   "metadata": {
    "collapsed": false
   },
   "outputs": [
    {
     "name": "stdout",
     "output_type": "stream",
     "text": [
      "Testing Accuracy: 0.6111550632911392\n",
      "\n"
     ]
    },
    {
     "data": {
      "image/png": "[encoded data removed]",
      "text/plain": [
       "<matplotlib.figure.Figure at 0x1387bb860>"
      ]
     },
     "metadata": {
      "image/png": {
       "height": 319,
       "width": 355
      }
     },
     "output_type": "display_data"
    }
   ],
   "source": [
    "\"\"\"\n",
    "DON'T MODIFY ANYTHING IN THIS CELL\n",
    "\"\"\"\n",
    "%matplotlib inline\n",
    "%config InlineBackend.figure_format = 'retina'\n",
    "\n",
    "import tensorflow as tf\n",
    "import pickle\n",
    "import helper\n",
    "import random\n",
    "\n",
    "# Set batch size if not already set\n",
    "try:\n",
    "    if batch_size:\n",
    "        pass\n",
    "except NameError:\n",
    "    batch_size = 64\n",
    "\n",
    "save_model_path = './image_classification'\n",
    "n_samples = 4\n",
    "top_n_predictions = 3\n",
    "\n",
    "def test_model():\n",
    "    \"\"\"\n",
    "    Test the saved model against the test dataset\n",
    "    \"\"\"\n",
    "\n",
    "    test_features, test_labels = pickle.load(open('preprocess_test.p', mode='rb'))\n",
    "    loaded_graph = tf.Graph()\n",
    "\n",
    "    with tf.Session(graph=loaded_graph) as sess:\n",
    "        # Load model\n",
    "        loader = tf.train.import_meta_graph(save_model_path + '.meta')\n",
    "        loader.restore(sess, save_model_path)\n",
    "\n",
    "        # Get Tensors from loaded model\n",
    "        loaded_x = loaded_graph.get_tensor_by_name('x:0')\n",
    "        loaded_y = loaded_graph.get_tensor_by_name('y:0')\n",
    "        loaded_keep_prob = loaded_graph.get_tensor_by_name('keep_prob:0')\n",
    "        loaded_logits = loaded_graph.get_tensor_by_name('logits:0')\n",
    "        loaded_acc = loaded_graph.get_tensor_by_name('accuracy:0')\n",
    "        \n",
    "        # Get accuracy in batches for memory limitations\n",
    "        test_batch_acc_total = 0\n",
    "        test_batch_count = 0\n",
    "        \n",
    "        for test_feature_batch, test_label_batch in helper.batch_features_labels(test_features, test_labels, batch_size):\n",
    "            test_batch_acc_total += sess.run(\n",
    "                loaded_acc,\n",
    "                feed_dict={loaded_x: test_feature_batch, loaded_y: test_label_batch, loaded_keep_prob: 1.0})\n",
    "            test_batch_count += 1\n",
    "\n",
    "        print('Testing Accuracy: {}\\n'.format(test_batch_acc_total/test_batch_count))\n",
    "\n",
    "        # Print Random Samples\n",
    "        random_test_features, random_test_labels = tuple(zip(*random.sample(list(zip(test_features, test_labels)), n_samples)))\n",
    "        random_test_predictions = sess.run(\n",
    "            tf.nn.top_k(tf.nn.softmax(loaded_logits), top_n_predictions),\n",
    "            feed_dict={loaded_x: random_test_features, loaded_y: random_test_labels, loaded_keep_prob: 1.0})\n",
    "        helper.display_image_predictions(random_test_features, random_test_labels, random_test_predictions)\n",
    "\n",
    "\n",
    "test_model()"
   ]
  },
  {
   "cell_type": "markdown",
   "metadata": {},
   "source": [
    "## Why 50-80% Accuracy?\n",
    "You might be wondering why you can't get an accuracy any higher. First things first, 50% isn't bad for a simple CNN.  Pure guessing would get you 10% accuracy. However, you might notice people are getting scores [well above 80%](http://rodrigob.github.io/are_we_there_yet/build/classification_datasets_results.html#43494641522d3130).  That's because we haven't taught you all there is to know about neural networks. We still need to cover a few more techniques.\n",
    "## Submitting This Project\n",
    "When submitting this project, make sure to run all the cells before saving the notebook.  Save the notebook file as \"dlnd_image_classification.ipynb\" and save it as a HTML file under \"File\" -> \"Download as\".  Include the \"helper.py\" and \"problem_unittests.py\" files in your submission."
   ]
  },
  {
   "cell_type": "code",
   "execution_count": null,
   "metadata": {
    "collapsed": true
   },
   "outputs": [],
   "source": []
  }
 ],
 "metadata": {
  "kernelspec": {
   "display_name": "Python 3",
   "language": "python",
   "name": "python3"
  },
  "language_info": {
   "codemirror_mode": {
    "name": "ipython",
    "version": 3
   },
   "file_extension": ".py",
   "mimetype": "text/x-python",
   "name": "python",
   "nbconvert_exporter": "python",
   "pygments_lexer": "ipython3",
   "version": "3.6.0"
  }
 },
 "nbformat": 4,
 "nbformat_minor": 0
}
